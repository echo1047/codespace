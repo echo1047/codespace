{
 "cells": [
  {
   "cell_type": "code",
   "execution_count": 1,
   "metadata": {
    "executionInfo": {
     "elapsed": 15,
     "status": "ok",
     "timestamp": 1649956709278,
     "user": {
      "displayName": "Sam Lu",
      "userId": "15789059763790170725"
     },
     "user_tz": -480
    },
    "id": "ILir9xpUCpU6"
   },
   "outputs": [
    {
     "name": "stdout",
     "output_type": "stream",
     "text": [
      "0.28.1\n"
     ]
    }
   ],
   "source": [
    "from torch.utils.tensorboard import SummaryWriter\n",
    "import gymnasium as gym # 0.28.0\n",
    "import numpy as np\n",
    "from tqdm import tqdm\n",
    "import torch\n",
    "import torch.nn.functional as F\n",
    "from torch.distributions import Normal\n",
    "import matplotlib.pyplot as plt\n",
    "import time\n",
    "from gymnasium.utils.save_video import save_video\n",
    "\n",
    "import my_rl_utils\n",
    "\n",
    "print(gym.__version__)"
   ]
  },
  {
   "cell_type": "code",
   "execution_count": 2,
   "metadata": {
    "executionInfo": {
     "elapsed": 15,
     "status": "ok",
     "timestamp": 1649956709279,
     "user": {
      "displayName": "Sam Lu",
      "userId": "15789059763790170725"
     },
     "user_tz": -480
    },
    "id": "LDPkl2O-CpU9"
   },
   "outputs": [],
   "source": [
    "class PolicyNetContinuous(torch.nn.Module):\n",
    "    def __init__(self, state_dim, hidden_dim, action_dim, action_bound):\n",
    "        super(PolicyNetContinuous, self).__init__()\n",
    "        self.fc1 = torch.nn.Linear(state_dim, hidden_dim)\n",
    "        self.fc_mu = torch.nn.Linear(hidden_dim, action_dim)\n",
    "        self.fc_std = torch.nn.Linear(hidden_dim, action_dim)\n",
    "        self.action_bound = action_bound\n",
    "\n",
    "    def forward(self, x):\n",
    "        x = F.relu(self.fc1(x))\n",
    "        mu = self.fc_mu(x)\n",
    "        std = F.softplus(self.fc_std(x))\n",
    "        dist = Normal(mu, std)\n",
    "        normal_sample = dist.rsample()  # rsample()是重参数化采样\n",
    "        log_prob = dist.log_prob(normal_sample)\n",
    "        action = torch.tanh(normal_sample)\n",
    "        # 计算tanh_normal分布的对数概率密度\n",
    "        log_prob = log_prob - torch.log(1 - torch.tanh(action).pow(2) + 1e-7)\n",
    "        action = action * self.action_bound\n",
    "        return action, log_prob\n",
    "\n",
    "\n",
    "class QValueNetContinuous(torch.nn.Module): #? 连续状态网络和离散状态网络似乎没有多大的区别\n",
    "    def __init__(self, state_dim, hidden_dim, action_dim):\n",
    "        super(QValueNetContinuous, self).__init__()\n",
    "        self.fc1 = torch.nn.Linear(state_dim + action_dim, hidden_dim)\n",
    "        self.fc2 = torch.nn.Linear(hidden_dim, hidden_dim)\n",
    "        self.fc_out = torch.nn.Linear(hidden_dim, 1)\n",
    "\n",
    "    def forward(self, x, a):\n",
    "        cat = torch.cat([x, a], dim=1)\n",
    "        x = F.relu(self.fc1(cat))\n",
    "        x = F.relu(self.fc2(x))\n",
    "        return self.fc_out(x)"
   ]
  },
  {
   "cell_type": "code",
   "execution_count": 3,
   "metadata": {
    "executionInfo": {
     "elapsed": 14,
     "status": "ok",
     "timestamp": 1649956709279,
     "user": {
      "displayName": "Sam Lu",
      "userId": "15789059763790170725"
     },
     "user_tz": -480
    },
    "id": "qwnXwWyzCpU-"
   },
   "outputs": [],
   "source": [
    "class SACContinuous:\n",
    "    ''' 处理连续动作的SAC算法 '''\n",
    "    def __init__(self, state_dim, hidden_dim, action_dim, action_bound,\n",
    "                 actor_lr, critic_lr, alpha_lr, target_entropy, tau, gamma,\n",
    "                 device, env):\n",
    "        self.actor = PolicyNetContinuous(state_dim, hidden_dim, action_dim,\n",
    "                                         action_bound).to(device)  # 策略网络\n",
    "        self.critic_1 = QValueNetContinuous(state_dim, hidden_dim,\n",
    "                                            action_dim).to(device)  # 第一个Q网络\n",
    "        self.critic_2 = QValueNetContinuous(state_dim, hidden_dim,\n",
    "                                            action_dim).to(device)  # 第二个Q网络\n",
    "        self.target_critic_1 = QValueNetContinuous(state_dim,\n",
    "                                                   hidden_dim, action_dim).to(\n",
    "                                                       device)  # 第一个目标Q网络\n",
    "        self.target_critic_2 = QValueNetContinuous(state_dim,\n",
    "                                                   hidden_dim, action_dim).to(\n",
    "                                                       device)  # 第二个目标Q网络\n",
    "        # 令目标Q网络的初始参数和Q网络一样\n",
    "        self.target_critic_1.load_state_dict(self.critic_1.state_dict())\n",
    "        self.target_critic_2.load_state_dict(self.critic_2.state_dict())\n",
    "        self.actor_optimizer = torch.optim.Adam(self.actor.parameters(),\n",
    "                                                lr=actor_lr)\n",
    "        self.critic_1_optimizer = torch.optim.Adam(self.critic_1.parameters(),\n",
    "                                                   lr=critic_lr)\n",
    "        self.critic_2_optimizer = torch.optim.Adam(self.critic_2.parameters(),\n",
    "                                                   lr=critic_lr)\n",
    "        # 使用alpha的log值,可以使训练结果比较稳定\n",
    "        self.log_alpha = torch.tensor(np.log(0.01), dtype=torch.float)\n",
    "        self.log_alpha.requires_grad = True  # 可以对alpha求梯度\n",
    "        self.log_alpha_optimizer = torch.optim.Adam([self.log_alpha],\n",
    "                                                    lr=alpha_lr)\n",
    "        self.target_entropy = target_entropy  # 目标熵的大小\n",
    "        self.gamma = gamma\n",
    "        self.tau = tau\n",
    "        self.device = device\n",
    "        self.env = env\n",
    "\n",
    "    def take_action(self, state):\n",
    "        state = torch.tensor([state], dtype=torch.float).to(self.device)\n",
    "        action = self.actor(state)[0]\n",
    "        return [action.item()]\n",
    "\n",
    "    def calc_target(self, rewards, next_states, terminateds, truncateds):  # 计算目标Q值\n",
    "        next_actions, log_prob = self.actor(next_states) # log_probs\n",
    "        entropy = -log_prob\n",
    "        q1_value = self.target_critic_1(next_states, next_actions)\n",
    "        q2_value = self.target_critic_2(next_states, next_actions)\n",
    "        next_value = torch.min(q1_value,\n",
    "                               q2_value) + self.log_alpha.exp() * entropy\n",
    "        td_target = rewards + self.gamma * next_value * (1 - terminateds) * (1 - truncateds)\n",
    "        return td_target\n",
    "\n",
    "    def soft_update(self, net, target_net):\n",
    "        for param_target, param in zip(target_net.parameters(),\n",
    "                                       net.parameters()):\n",
    "            param_target.data.copy_(param_target.data * (1.0 - self.tau) +\n",
    "                                    param.data * self.tau)\n",
    "\n",
    "    def update(self, transition_dict):\n",
    "        states = torch.tensor(transition_dict['states'],\n",
    "                              dtype=torch.float).to(self.device)\n",
    "        actions = torch.tensor(transition_dict['actions'],\n",
    "                               dtype=torch.float).view(-1, 1).to(self.device)\n",
    "        rewards = torch.tensor(transition_dict['rewards'],\n",
    "                               dtype=torch.float).view(-1, 1).to(self.device)\n",
    "        next_states = torch.tensor(transition_dict['next_states'],\n",
    "                                   dtype=torch.float).to(self.device)\n",
    "        terminateds = torch.tensor(transition_dict['terminateds'],\n",
    "                             dtype=torch.float).view(-1, 1).to(self.device)\n",
    "        truncateds = torch.tensor(transition_dict['truncateds'],\n",
    "                             dtype=torch.float).view(-1, 1).to(self.device)\n",
    "        # 和之前章节一样,对倒立摆环境的奖励进行重塑以便训练\n",
    "        rewards = (rewards + 8.0) / 8.0\n",
    "\n",
    "        # 更新两个Q网络\n",
    "        td_target = self.calc_target(rewards, next_states, terminateds, truncateds)\n",
    "        critic_1_loss = torch.mean(\n",
    "            F.mse_loss(self.critic_1(states, actions), td_target.detach()))\n",
    "        critic_2_loss = torch.mean(\n",
    "            F.mse_loss(self.critic_2(states, actions), td_target.detach()))\n",
    "        self.critic_1_optimizer.zero_grad()\n",
    "        critic_1_loss.backward()\n",
    "        self.critic_1_optimizer.step()\n",
    "        self.critic_2_optimizer.zero_grad()\n",
    "        critic_2_loss.backward()\n",
    "        self.critic_2_optimizer.step()\n",
    "\n",
    "        # 更新策略网络\n",
    "        new_actions, log_prob = self.actor(states)\n",
    "        entropy = -log_prob\n",
    "        q1_value = self.critic_1(states, new_actions)\n",
    "        q2_value = self.critic_2(states, new_actions)\n",
    "        actor_loss = torch.mean(-self.log_alpha.exp() * entropy -\n",
    "                                torch.min(q1_value, q2_value))\n",
    "        self.actor_optimizer.zero_grad()\n",
    "        actor_loss.backward()\n",
    "        self.actor_optimizer.step()\n",
    "\n",
    "        # 更新alpha值\n",
    "        alpha_loss = torch.mean(\n",
    "            (entropy - self.target_entropy).detach() * self.log_alpha.exp())\n",
    "        self.log_alpha_optimizer.zero_grad()\n",
    "        alpha_loss.backward()\n",
    "        self.log_alpha_optimizer.step()\n",
    "\n",
    "        self.soft_update(self.critic_1, self.target_critic_1)\n",
    "        self.soft_update(self.critic_2, self.target_critic_2)\n",
    "        \n",
    "    def show_video(self):\n",
    "        state, _ = self.env.reset()\n",
    "        step_starting_index = 0\n",
    "        episode_index = 0\n",
    "        for step_index in range(1000000): \n",
    "            action = self.take_action(state)\n",
    "            next_state, _, terminated, truncated, _ = self.env.step(action)\n",
    "            state = next_state\n",
    "\n",
    "            if terminated or truncated:\n",
    "                save_video(\n",
    "                    frames=self.env.render(),\n",
    "                    video_folder=\"videos/\" + str(self.env.spec.id) + time.strftime(\"_%Y-%m-%d_%H:%M:%S\"),\n",
    "                    fps=self.env.metadata[\"render_fps\"],\n",
    "                    step_starting_index=step_starting_index,\n",
    "                    episode_index=episode_index\n",
    "                )\n",
    "                step_starting_index = step_index + 1\n",
    "                episode_index += 1\n",
    "                self.env.reset()\n",
    "                break\n",
    "        self.env.close()       "
   ]
  },
  {
   "cell_type": "code",
   "execution_count": 4,
   "metadata": {
    "colab": {
     "base_uri": "https://localhost:8080/"
    },
    "executionInfo": {
     "elapsed": 141373,
     "status": "ok",
     "timestamp": 1649956709277,
     "user": {
      "displayName": "Sam Lu",
      "userId": "15789059763790170725"
     },
     "user_tz": -480
    },
    "id": "ICsfMCdmCpVA",
    "outputId": "70ff6ca1-6829-450b-a12f-76c79da63711"
   },
   "outputs": [
    {
     "name": "stderr",
     "output_type": "stream",
     "text": [
      "Iteration 0:   0%|          | 0/100 [00:00<?, ?it/s]/tmp/ipykernel_26692/313783561.py:39: UserWarning: Creating a tensor from a list of numpy.ndarrays is extremely slow. Please consider converting the list to a single numpy.ndarray with numpy.array() before converting to a tensor. (Triggered internally at ../torch/csrc/utils/tensor_new.cpp:245.)\n",
      "  state = torch.tensor([state], dtype=torch.float).to(self.device)\n",
      "Iteration 0:  40%|████      | 40/100 [09:27<14:11, 14.19s/it, episode=40, return=-99.854]\n"
     ]
    },
    {
     "ename": "KeyboardInterrupt",
     "evalue": "",
     "output_type": "error",
     "traceback": [
      "\u001b[0;31m---------------------------------------------------------------------------\u001b[0m",
      "\u001b[0;31mKeyboardInterrupt\u001b[0m                         Traceback (most recent call last)",
      "Cell \u001b[0;32mIn[4], line 29\u001b[0m\n\u001b[1;32m     24\u001b[0m replay_buffer \u001b[39m=\u001b[39m my_rl_utils\u001b[39m.\u001b[39mReplayBuffer(buffer_size)\n\u001b[1;32m     25\u001b[0m agent \u001b[39m=\u001b[39m SACContinuous(state_dim, hidden_dim, action_dim, action_bound,\n\u001b[1;32m     26\u001b[0m                       actor_lr, critic_lr, alpha_lr, target_entropy, tau,\n\u001b[1;32m     27\u001b[0m                       gamma, device, env)\n\u001b[0;32m---> 29\u001b[0m return_list \u001b[39m=\u001b[39m my_rl_utils\u001b[39m.\u001b[39;49mtrain_off_policy_agent(env, agent, num_episodes,\n\u001b[1;32m     30\u001b[0m                                               replay_buffer, minimal_size,\n\u001b[1;32m     31\u001b[0m                                               batch_size)\n\u001b[1;32m     33\u001b[0m writer \u001b[39m=\u001b[39m SummaryWriter(\u001b[39m'\u001b[39m\u001b[39mtest_record\u001b[39m\u001b[39m'\u001b[39m)\n\u001b[1;32m     34\u001b[0m \u001b[39mfor\u001b[39;00m i \u001b[39min\u001b[39;00m \u001b[39mrange\u001b[39m(\u001b[39mlen\u001b[39m(return_list)):\n",
      "File \u001b[0;32m~/volume/echo/my_code/my_rl_utils.py:52\u001b[0m, in \u001b[0;36mtrain_off_policy_agent\u001b[0;34m(env, agent, num_episodes, replay_buffer, minimal_size, batch_size)\u001b[0m\n\u001b[1;32m     45\u001b[0m         buffer_states, buffer_actions, buffer_rewards, buffer_next_states, buffer_terminateds, buffer_truncateds \u001b[39m=\u001b[39m replay_buffer\u001b[39m.\u001b[39msample(batch_size) \u001b[39m# 采样N个元组\u001b[39;00m\n\u001b[1;32m     46\u001b[0m         transition_dict \u001b[39m=\u001b[39m {\u001b[39m'\u001b[39m\u001b[39mstates\u001b[39m\u001b[39m'\u001b[39m: buffer_states, \n\u001b[1;32m     47\u001b[0m                            \u001b[39m'\u001b[39m\u001b[39mactions\u001b[39m\u001b[39m'\u001b[39m: buffer_actions, \n\u001b[1;32m     48\u001b[0m                            \u001b[39m'\u001b[39m\u001b[39mnext_states\u001b[39m\u001b[39m'\u001b[39m: buffer_next_states, \n\u001b[1;32m     49\u001b[0m                            \u001b[39m'\u001b[39m\u001b[39mrewards\u001b[39m\u001b[39m'\u001b[39m: buffer_rewards, \n\u001b[1;32m     50\u001b[0m                            \u001b[39m'\u001b[39m\u001b[39mterminateds\u001b[39m\u001b[39m'\u001b[39m: buffer_terminateds, \n\u001b[1;32m     51\u001b[0m                            \u001b[39m'\u001b[39m\u001b[39mtruncateds\u001b[39m\u001b[39m'\u001b[39m: buffer_truncateds}\n\u001b[0;32m---> 52\u001b[0m         agent\u001b[39m.\u001b[39;49mupdate(transition_dict) \u001b[39m# 更新\u001b[39;00m\n\u001b[1;32m     53\u001b[0m return_list\u001b[39m.\u001b[39mappend(episode_return)\n\u001b[1;32m     54\u001b[0m \u001b[39mif\u001b[39;00m (i_episode\u001b[39m+\u001b[39m\u001b[39m1\u001b[39m) \u001b[39m%\u001b[39m \u001b[39m10\u001b[39m \u001b[39m==\u001b[39m \u001b[39m0\u001b[39m:\n",
      "Cell \u001b[0;32mIn[3], line 70\u001b[0m, in \u001b[0;36mSACContinuous.update\u001b[0;34m(self, transition_dict)\u001b[0m\n\u001b[1;32m     66\u001b[0m next_states \u001b[39m=\u001b[39m torch\u001b[39m.\u001b[39mtensor(transition_dict[\u001b[39m'\u001b[39m\u001b[39mnext_states\u001b[39m\u001b[39m'\u001b[39m],\n\u001b[1;32m     67\u001b[0m                            dtype\u001b[39m=\u001b[39mtorch\u001b[39m.\u001b[39mfloat)\u001b[39m.\u001b[39mto(\u001b[39mself\u001b[39m\u001b[39m.\u001b[39mdevice)\n\u001b[1;32m     68\u001b[0m terminateds \u001b[39m=\u001b[39m torch\u001b[39m.\u001b[39mtensor(transition_dict[\u001b[39m'\u001b[39m\u001b[39mterminateds\u001b[39m\u001b[39m'\u001b[39m],\n\u001b[1;32m     69\u001b[0m                      dtype\u001b[39m=\u001b[39mtorch\u001b[39m.\u001b[39mfloat)\u001b[39m.\u001b[39mview(\u001b[39m-\u001b[39m\u001b[39m1\u001b[39m, \u001b[39m1\u001b[39m)\u001b[39m.\u001b[39mto(\u001b[39mself\u001b[39m\u001b[39m.\u001b[39mdevice)\n\u001b[0;32m---> 70\u001b[0m truncateds \u001b[39m=\u001b[39m torch\u001b[39m.\u001b[39;49mtensor(transition_dict[\u001b[39m'\u001b[39;49m\u001b[39mtruncateds\u001b[39;49m\u001b[39m'\u001b[39;49m],\n\u001b[1;32m     71\u001b[0m                      dtype\u001b[39m=\u001b[39;49mtorch\u001b[39m.\u001b[39;49mfloat)\u001b[39m.\u001b[39;49mview(\u001b[39m-\u001b[39;49m\u001b[39m1\u001b[39;49m, \u001b[39m1\u001b[39;49m)\u001b[39m.\u001b[39;49mto(\u001b[39mself\u001b[39;49m\u001b[39m.\u001b[39;49mdevice)\n\u001b[1;32m     72\u001b[0m \u001b[39m# 和之前章节一样,对倒立摆环境的奖励进行重塑以便训练\u001b[39;00m\n\u001b[1;32m     73\u001b[0m rewards \u001b[39m=\u001b[39m (rewards \u001b[39m+\u001b[39m \u001b[39m8.0\u001b[39m) \u001b[39m/\u001b[39m \u001b[39m8.0\u001b[39m\n",
      "\u001b[0;31mKeyboardInterrupt\u001b[0m: "
     ]
    }
   ],
   "source": [
    "# env_name = 'Pendulum-v1'\n",
    "env_name = 'MountainCarContinuous-v0'\n",
    "\n",
    "env = gym.make(env_name, render_mode='rgb_array_list')\n",
    "state_dim = env.observation_space.shape[0]\n",
    "action_dim = env.action_space.shape[0]\n",
    "action_bound = env.action_space.high[0]  # 动作最大值\n",
    "\n",
    "actor_lr = 3e-4\n",
    "critic_lr = 3e-3\n",
    "alpha_lr = 3e-4\n",
    "num_episodes = 1000\n",
    "# num_episodes = 100\n",
    "hidden_dim = 128\n",
    "gamma = 0.99\n",
    "tau = 0.005  # 软更新参数\n",
    "buffer_size = 100000\n",
    "minimal_size = 1000\n",
    "batch_size = 64\n",
    "target_entropy = -env.action_space.shape[0]\n",
    "device = torch.device(\"cuda\") if torch.cuda.is_available() else torch.device(\n",
    "    \"cpu\")\n",
    "\n",
    "replay_buffer = my_rl_utils.ReplayBuffer(buffer_size)\n",
    "agent = SACContinuous(state_dim, hidden_dim, action_dim, action_bound,\n",
    "                      actor_lr, critic_lr, alpha_lr, target_entropy, tau,\n",
    "                      gamma, device, env)\n",
    "\n",
    "return_list = my_rl_utils.train_off_policy_agent(env, agent, num_episodes,\n",
    "                                              replay_buffer, minimal_size,\n",
    "                                              batch_size)\n",
    "\n",
    "writer = SummaryWriter('test_record')\n",
    "for i in range(len(return_list)):\n",
    "    writer.add_scalar('episode_return', return_list[i], i)\n",
    "writer.close()\n",
    "# Iteration 0: 100%|██████████| 10/10 [00:07<00:00,  1.35it/s, episode=10,\n",
    "# return=-1534.655]\n",
    "# Iteration 1: 100%|██████████| 10/10 [00:13<00:00,  1.32s/it, episode=20,\n",
    "# return=-1085.715]\n",
    "# Iteration 2: 100%|██████████| 10/10 [00:13<00:00,  1.38s/it, episode=30,\n",
    "# return=-377.923]\n",
    "# Iteration 3: 100%|██████████| 10/10 [00:13<00:00,  1.37s/it, episode=40,\n",
    "# return=-284.440]\n",
    "# Iteration 4: 100%|██████████| 10/10 [00:13<00:00,  1.36s/it, episode=50,\n",
    "# return=-183.556]\n",
    "# Iteration 5: 100%|██████████| 10/10 [00:14<00:00,  1.43s/it, episode=60,\n",
    "# return=-202.841]\n",
    "# Iteration 6: 100%|██████████| 10/10 [00:14<00:00,  1.41s/it, episode=70,\n",
    "# return=-193.436]\n",
    "# Iteration 7: 100%|██████████| 10/10 [00:14<00:00,  1.42s/it, episode=80,\n",
    "# return=-131.132]\n",
    "# Iteration 8: 100%|██████████| 10/10 [00:14<00:00,  1.41s/it, episode=90,\n",
    "# return=-181.888]\n",
    "# Iteration 9: 100%|██████████| 10/10 [00:14<00:00,  1.42s/it, episode=100,\n",
    "# return=-139.574]"
   ]
  },
  {
   "attachments": {},
   "cell_type": "markdown",
   "metadata": {},
   "source": [
    "---"
   ]
  },
  {
   "cell_type": "code",
   "execution_count": null,
   "metadata": {},
   "outputs": [],
   "source": [
    "agent.show_video()"
   ]
  },
  {
   "cell_type": "code",
   "execution_count": null,
   "metadata": {},
   "outputs": [],
   "source": [
    "!tensorboard --logdir . --port 50002"
   ]
  }
 ],
 "metadata": {
  "colab": {
   "collapsed_sections": [],
   "name": "第14章-SAC算法.ipynb",
   "provenance": []
  },
  "kernelspec": {
   "display_name": "Python 3",
   "language": "python",
   "name": "python3"
  },
  "language_info": {
   "codemirror_mode": {
    "name": "ipython",
    "version": 3
   },
   "file_extension": ".py",
   "mimetype": "text/x-python",
   "name": "python",
   "nbconvert_exporter": "python",
   "pygments_lexer": "ipython3",
   "version": "3.9.16"
  }
 },
 "nbformat": 4,
 "nbformat_minor": 1
}
