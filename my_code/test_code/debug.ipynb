{
 "cells": [
  {
   "cell_type": "code",
   "execution_count": null,
   "metadata": {},
   "outputs": [],
   "source": []
  },
  {
   "cell_type": "code",
   "execution_count": null,
   "metadata": {},
   "outputs": [],
   "source": [
    "o, _ = env.reset()\n",
    "state = torch.tensor([o], dtype=torch.float).to(agent.device)\n",
    "state = state.transpose(state, 1, 3)\n",
    "probs = agent.actor(state)\n",
    "print(probs)"
   ]
  },
  {
   "cell_type": "code",
   "execution_count": null,
   "metadata": {},
   "outputs": [],
   "source": [
    "from tqdm import tqdm\n",
    "import time\n",
    "\n",
    "for i in range(10): # 要显示的进度条数量\n",
    "    with tqdm(total=int(100/10), desc='Iteration %d' % i) as pbar:\n",
    "        for _ in range(int(100/10)):\n",
    "            time.sleep(0.1)\n",
    "            pbar.update(1)"
   ]
  },
  {
   "cell_type": "code",
   "execution_count": null,
   "metadata": {},
   "outputs": [],
   "source": [
    "import torch\n",
    "import torch.nn.functional as F\n",
    "\n",
    "x = torch.tensor([[0.2, 0.8, 0.6, 0.4], [0.9, 0.1, 0.3, 0.7]])\n",
    "\n",
    "# values, indices = torch.max(x, dim=1)\n",
    "\n",
    "# print(values) \n",
    "# print(indices)\n",
    "\n",
    "\n",
    "class Actor(torch.nn.Module):\n",
    "    '''\n",
    "    The actor takes a state as input and outputs a probability distribution over actions.\n",
    "    '''\n",
    "    def __init__(self, state_size, hidden_size, action_size):\n",
    "        super(Actor, self).__init__()\n",
    "        self.fc1 = torch.nn.Linear(state_size, hidden_size)\n",
    "        self.fc2 = torch.nn.Linear(hidden_size, action_size)\n",
    "        \n",
    "    def forward(self, x):\n",
    "        x = F.relu(self.fc1(x))\n",
    "        x = F.softmax(self.fc2(x), dim=1)\n",
    "        return x\n",
    "\n",
    "def take_action(state):\n",
    "    # state = torch.tensor([state], dtype=torch.float)\n",
    "    action = actor(state)\n",
    "    return action.item()\n",
    "    \n",
    "actor = Actor(4, 8, 2)\n",
    "probs = actor(x)\n",
    "print(probs)\n",
    "\n",
    "# x = [[0.2, 0.8, 0.6, 0.4], [0.9, 0.1, 0.3, 0.7]]\n",
    "take_action(x)\n"
   ]
  },
  {
   "cell_type": "code",
   "execution_count": null,
   "metadata": {},
   "outputs": [],
   "source": [
    "import torch\n",
    "x = torch.tensor([[0.2, 0.8, 0.6, 0.4], [0.9, 0.1, 0.3, 0.7]])\n",
    "values, indices = torch.max(x, dim=1)\n",
    "print(values) # tensor([0.8000, 0.9000])\n",
    "print(indices) # tensor([1, 0])\n",
    "indices = indices.view(-1, 1)\n",
    "print(indices)"
   ]
  },
  {
   "cell_type": "code",
   "execution_count": null,
   "metadata": {},
   "outputs": [],
   "source": [
    "import torch\n",
    "\n",
    "x = torch.tensor([1.2, 14.4])\n",
    "print(x.item())"
   ]
  },
  {
   "cell_type": "code",
   "execution_count": null,
   "metadata": {},
   "outputs": [],
   "source": [
    "import torch\n",
    "\n",
    "x1 = torch.tensor([[1.2], \n",
    "                  [14.4]])\n",
    "x2 = torch.tensor([[13.2], \n",
    "                  [4.4]])\n",
    "\n",
    "print(torch.min(x1, x2))"
   ]
  },
  {
   "cell_type": "code",
   "execution_count": null,
   "metadata": {},
   "outputs": [],
   "source": [
    "import gym\n",
    "\n",
    "\n",
    "env_name = 'Breakout-v4'\n",
    "env = gym.make(env_name)"
   ]
  }
 ],
 "metadata": {
  "kernelspec": {
   "display_name": "base",
   "language": "python",
   "name": "python3"
  },
  "language_info": {
   "codemirror_mode": {
    "name": "ipython",
    "version": 3
   },
   "file_extension": ".py",
   "mimetype": "text/x-python",
   "name": "python",
   "nbconvert_exporter": "python",
   "pygments_lexer": "ipython3",
   "version": "3.7.16"
  },
  "orig_nbformat": 4
 },
 "nbformat": 4,
 "nbformat_minor": 2
}
